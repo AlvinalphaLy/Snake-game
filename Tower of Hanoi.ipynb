{
 "cells": [
  {
   "cell_type": "markdown",
   "id": "b0f32cfb",
   "metadata": {},
   "source": [
    "### When moving 3 disks from A to C, we move the top disk to B and then the bottom disk to C. More generally, when moving n disk from A to C, we move n-1 disks to B ; we then move the base disk from A to C and then move the stack of n-1 on B to C."
   ]
  },
  {
   "cell_type": "code",
   "execution_count": 14,
   "id": "eaa5f64e",
   "metadata": {},
   "outputs": [],
   "source": [
    "# We have 3 towers A, B and C or 3 stacks, có thể làm nhiêu cũng dc\n",
    "\n",
    "A = [14,13,12,11,10,9,8,7,6,5,4,3,2,1]\n",
    "B = []\n",
    "C = []"
   ]
  },
  {
   "cell_type": "code",
   "execution_count": 15,
   "id": "92db72be",
   "metadata": {},
   "outputs": [],
   "source": [
    "# According to our rules, if we want to move all disks 3,2 and 1 from A to C, we first move two disks from A to B. We then move \n",
    "# the base disk from A to C, and then the stack of two from B to C. \n",
    "count = 0\n",
    "def towers_of_hanoi(A,B,C,n):\n",
    "    global count\n",
    "    \n",
    "    if n == 1:\n",
    "        disk = A.pop()\n",
    "        C.append(disk)\n",
    "        count += 1\n",
    "    \n",
    "    else:\n",
    "        towers_of_hanoi(A,C,B,n-1)\n",
    "        towers_of_hanoi(A,B,C,1)\n",
    "        towers_of_hanoi(B,A,C,n-1)\n",
    "    return count\n",
    "# towers_of_hanoi(A,C,B,n-1) : chuyển tất cả các đĩa (trừ đĩa đầu tiên) từ cột A sang B\n",
    "# towers_of_hanoi(A,B,C,1) : chuyển đĩa đầu tiên từ cột A sang C\n",
    "# towers_of_hanoi(B,A,C,n-1) : chuyển tất cả các đĩa (trừ đĩa đầu tiên) từ cột B sang C"
   ]
  },
  {
   "cell_type": "code",
   "execution_count": null,
   "id": "e3eb4d1d",
   "metadata": {},
   "outputs": [],
   "source": [
    "#Explain much in this youtube link:\n",
    "# https://www.youtube.com/watch?v=4m8gBTTjoMI\n",
    "# https://www.youtube.com/watch?v=v2oLM6tDj04    "
   ]
  },
  {
   "cell_type": "code",
   "execution_count": null,
   "id": "b40b3585",
   "metadata": {},
   "outputs": [],
   "source": [
    "# Global: biến variable của 1 func thành variable của tất cả các func khác . \n",
    "# Global là biến variable thành variable của entire program.\n",
    "# Local: with in the function where the variable have been declared . "
   ]
  },
  {
   "cell_type": "code",
   "execution_count": null,
   "id": "a55cec6a",
   "metadata": {},
   "outputs": [],
   "source": []
  },
  {
   "cell_type": "code",
   "execution_count": 16,
   "id": "72bcaba7",
   "metadata": {},
   "outputs": [
    {
     "data": {
      "text/plain": [
       "16383"
      ]
     },
     "execution_count": 16,
     "metadata": {},
     "output_type": "execute_result"
    }
   ],
   "source": [
    "towers_of_hanoi(A,B,C,14)"
   ]
  },
  {
   "cell_type": "code",
   "execution_count": 17,
   "id": "cbde0b1d",
   "metadata": {},
   "outputs": [
    {
     "data": {
      "text/plain": [
       "[]"
      ]
     },
     "execution_count": 17,
     "metadata": {},
     "output_type": "execute_result"
    }
   ],
   "source": [
    "A"
   ]
  },
  {
   "cell_type": "code",
   "execution_count": 18,
   "id": "d46e8eb8",
   "metadata": {},
   "outputs": [
    {
     "data": {
      "text/plain": [
       "[]"
      ]
     },
     "execution_count": 18,
     "metadata": {},
     "output_type": "execute_result"
    }
   ],
   "source": [
    "B"
   ]
  },
  {
   "cell_type": "code",
   "execution_count": 19,
   "id": "b4a4f6d3",
   "metadata": {},
   "outputs": [
    {
     "data": {
      "text/plain": [
       "[14, 13, 12, 11, 10, 9, 8, 7, 6, 5, 4, 3, 2, 1]"
      ]
     },
     "execution_count": 19,
     "metadata": {},
     "output_type": "execute_result"
    }
   ],
   "source": [
    "C"
   ]
  },
  {
   "cell_type": "code",
   "execution_count": null,
   "id": "0cb09938",
   "metadata": {},
   "outputs": [],
   "source": []
  }
 ],
 "metadata": {
  "kernelspec": {
   "display_name": "Python 3 (ipykernel)",
   "language": "python",
   "name": "python3"
  },
  "language_info": {
   "codemirror_mode": {
    "name": "ipython",
    "version": 3
   },
   "file_extension": ".py",
   "mimetype": "text/x-python",
   "name": "python",
   "nbconvert_exporter": "python",
   "pygments_lexer": "ipython3",
   "version": "3.11.3"
  }
 },
 "nbformat": 4,
 "nbformat_minor": 5
}
