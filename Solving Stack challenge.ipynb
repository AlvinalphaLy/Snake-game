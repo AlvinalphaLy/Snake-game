{
 "cells": [
  {
   "cell_type": "markdown",
   "id": "601642bd",
   "metadata": {},
   "source": [
    "Write to determine whether a string of brackets is balanced\n",
    "\n",
    "It should return True if balanced.\n",
    "\n",
    "### [[({})]]  is an example of balanced brackets. [({)})]  is not balanced."
   ]
  },
  {
   "cell_type": "code",
   "execution_count": 1,
   "id": "c467d131",
   "metadata": {},
   "outputs": [],
   "source": [
    "def balanced_brackets(s):\n",
    "    \n",
    "    stack = []\n",
    "    brackets = { '(':')', '[':']', '{':'}' }\n",
    "    \n",
    "    for char in s: \n",
    "        if char in brackets.keys():\n",
    "            stack.append(char)\n",
    "            \n",
    "        else:\n",
    "            if len(stack) == 0 or brackets[stack.pop()]  != char:\n",
    "                return False\n",
    "    return len(stack) == 0\n",
    "\n",
    "# Giải thích:\n",
    "#1/\n",
    "# if char in brackets.keys():\n",
    "#    stack.append(char)\n",
    "\n",
    "# nghĩa là lấy key của dict brackets để append vào stack nếu char là một trong các key (, [, { \n",
    "\n",
    "#2/ \n",
    "# else:\n",
    "#     if len(stack) == 0:  là gì?\n",
    "\n",
    "# tưởng tượng char chạy từ trái sang phải, mà khi mới bắt đầu char đã là ) or ] or } thì điều kiện if ở trên\n",
    "# ko nhận và đẩy xuống else và thỏa if len(stack) == 0: nên return False\n",
    "\n",
    "#3/ lấy ví dụ   [[({})]]    và    [({)})]\n",
    "# else:\n",
    "#             brackets[stack.pop()]  != char:   là gì?\n",
    "\n",
    "# ví dụ như [({)})] thì scan từ trái sang phải thì [ ( { thỏa if char in brackets.keys():  nên được stack nhận\n",
    "# rùi char tiếp theo sẽ là ')' thì if char in brackets.keys():  ko nhận nên xuống else,lúc này brackets[stack.pop()] != char\n",
    "# sẽ bốc item cuối của stack ( stack.pop() ) ra là '{'  thành brackets['{']  và dict { ko gắn liền với  ')'  vì {:}  hợp\n",
    "# chứ {:) ko hợp nên return False.\n",
    "\n",
    "#4/ lấy ví dụ   [[({})]]\n",
    "# return len(stack) == 0 :  là gì\n",
    "\n",
    "# khi  [[({  được bốc ra hết rùi. char lần lượt tiếp theo là })]] sẽ được đưa xuống else phần lệnh như 3/,\n",
    "# vì bốc stack last item ra lần lượt và hợp với nhau như là {:} , (:) , [:] , [:] , cứ thế stack bị bốc từ từ ra hết nên \n",
    "# return len(stack) == 0 : là return True. Còn nếu ko hợp thì return False (giải thích phần 3/)\n"
   ]
  },
  {
   "cell_type": "code",
   "execution_count": null,
   "id": "bb7ec1aa",
   "metadata": {},
   "outputs": [],
   "source": []
  },
  {
   "cell_type": "code",
   "execution_count": 2,
   "id": "ca99c63b",
   "metadata": {},
   "outputs": [],
   "source": [
    "string = '[[({})]]'"
   ]
  },
  {
   "cell_type": "code",
   "execution_count": 3,
   "id": "7bf64e55",
   "metadata": {},
   "outputs": [
    {
     "data": {
      "text/plain": [
       "True"
      ]
     },
     "execution_count": 3,
     "metadata": {},
     "output_type": "execute_result"
    }
   ],
   "source": [
    "balanced_brackets(string)"
   ]
  },
  {
   "cell_type": "code",
   "execution_count": 4,
   "id": "d441f0e0",
   "metadata": {},
   "outputs": [
    {
     "data": {
      "text/plain": [
       "False"
      ]
     },
     "execution_count": 4,
     "metadata": {},
     "output_type": "execute_result"
    }
   ],
   "source": [
    "string_2 = '[({)})]'\n",
    "balanced_brackets(string_2)"
   ]
  },
  {
   "cell_type": "code",
   "execution_count": 5,
   "id": "b93199e9",
   "metadata": {},
   "outputs": [
    {
     "data": {
      "text/plain": [
       "False"
      ]
     },
     "execution_count": 5,
     "metadata": {},
     "output_type": "execute_result"
    }
   ],
   "source": [
    "string_3 = '][[({})]]'\n",
    "balanced_brackets(string_3)"
   ]
  },
  {
   "cell_type": "code",
   "execution_count": 6,
   "id": "7430f979",
   "metadata": {},
   "outputs": [
    {
     "data": {
      "text/plain": [
       "True"
      ]
     },
     "execution_count": 6,
     "metadata": {},
     "output_type": "execute_result"
    }
   ],
   "source": [
    "string_4 = '{}[]()'\n",
    "balanced_brackets(string_4)"
   ]
  },
  {
   "cell_type": "code",
   "execution_count": 7,
   "id": "130808e4",
   "metadata": {},
   "outputs": [
    {
     "data": {
      "text/plain": [
       "False"
      ]
     },
     "execution_count": 7,
     "metadata": {},
     "output_type": "execute_result"
    }
   ],
   "source": [
    "string_5 = '{}[(](})'\n",
    "balanced_brackets(string_5)"
   ]
  },
  {
   "cell_type": "code",
   "execution_count": null,
   "id": "c5e3ae51",
   "metadata": {},
   "outputs": [],
   "source": []
  }
 ],
 "metadata": {
  "kernelspec": {
   "display_name": "Python 3 (ipykernel)",
   "language": "python",
   "name": "python3"
  },
  "language_info": {
   "codemirror_mode": {
    "name": "ipython",
    "version": 3
   },
   "file_extension": ".py",
   "mimetype": "text/x-python",
   "name": "python",
   "nbconvert_exporter": "python",
   "pygments_lexer": "ipython3",
   "version": "3.11.3"
  }
 },
 "nbformat": 4,
 "nbformat_minor": 5
}
